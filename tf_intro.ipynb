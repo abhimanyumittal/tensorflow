{
 "cells": [
  {
   "cell_type": "code",
   "execution_count": 2,
   "metadata": {
    "colab": {},
    "colab_type": "code",
    "id": "zBiSvS-V3in9"
   },
   "outputs": [],
   "source": [
    "import tensorflow as tf\n",
    "import matplotlib.pyplot as plt"
   ]
  },
  {
   "cell_type": "code",
   "execution_count": 3,
   "metadata": {
    "colab": {},
    "colab_type": "code",
    "id": "XTnma48H3ypy"
   },
   "outputs": [],
   "source": [
    "# create a tensor\n",
    "n_values = 32\n",
    "x = tf.linspace(-3.0,3.0,n_values)"
   ]
  },
  {
   "cell_type": "code",
   "execution_count": 4,
   "metadata": {
    "colab": {},
    "colab_type": "code",
    "id": "Wqh7z3Os37gh"
   },
   "outputs": [],
   "source": [
    "# create a session to execute the graph\n",
    "sess = tf.Session()\n",
    "result = sess.run(x)"
   ]
  },
  {
   "cell_type": "code",
   "execution_count": 5,
   "metadata": {
    "colab": {},
    "colab_type": "code",
    "id": "Rq0Z2T4b4BjT"
   },
   "outputs": [
    {
     "data": {
      "text/plain": [
       "array([-3.        , -2.80645156, -2.61290312, -2.41935492, -2.22580647,\n",
       "       -2.03225803, -1.83870971, -1.64516139, -1.45161295, -1.25806451,\n",
       "       -1.06451619, -0.87096786, -0.67741942, -0.48387098, -0.29032278,\n",
       "       -0.09677434,  0.0967741 ,  0.29032254,  0.48387098,  0.67741919,\n",
       "        0.87096763,  1.06451607,  1.25806427,  1.45161295,  1.64516115,\n",
       "        1.83870935,  2.03225803,  2.22580624,  2.41935444,  2.61290312,\n",
       "        2.80645132,  3.        ], dtype=float32)"
      ]
     },
     "execution_count": 5,
     "metadata": {},
     "output_type": "execute_result"
    }
   ],
   "source": [
    "# pass session to eval fn\n",
    "x.eval(session=sess)"
   ]
  },
  {
   "cell_type": "code",
   "execution_count": 7,
   "metadata": {},
   "outputs": [],
   "source": [
    "# setup a interactive session if we\n",
    "# don't want to keep passing the session around\n",
    "sess.close()\n",
    "sess = tf.InteractiveSession()"
   ]
  },
  {
   "cell_type": "code",
   "execution_count": 8,
   "metadata": {},
   "outputs": [
    {
     "data": {
      "text/plain": [
       "array([-3.        , -2.80645156, -2.61290312, -2.41935492, -2.22580647,\n",
       "       -2.03225803, -1.83870971, -1.64516139, -1.45161295, -1.25806451,\n",
       "       -1.06451619, -0.87096786, -0.67741942, -0.48387098, -0.29032278,\n",
       "       -0.09677434,  0.0967741 ,  0.29032254,  0.48387098,  0.67741919,\n",
       "        0.87096763,  1.06451607,  1.25806427,  1.45161295,  1.64516115,\n",
       "        1.83870935,  2.03225803,  2.22580624,  2.41935444,  2.61290312,\n",
       "        2.80645132,  3.        ], dtype=float32)"
      ]
     },
     "execution_count": 8,
     "metadata": {},
     "output_type": "execute_result"
    }
   ],
   "source": [
    "x.eval()"
   ]
  },
  {
   "cell_type": "code",
   "execution_count": 10,
   "metadata": {},
   "outputs": [],
   "source": [
    "# now a tf.Operation\n",
    "# we will use our values to create a gaussian distribution\n",
    "sigma = 1.0\n",
    "mean = 0.0\n",
    "z = (tf.exp(tf.negative(tf.pow(x- mean, 2.0) /\n",
    "                   (2.0 * tf.pow(sigma, 2.0)))) *\n",
    "    (1.0 / (sigma * tf.sqrt(2.0 * 3.1415))))"
   ]
  },
  {
   "cell_type": "code",
   "execution_count": 11,
   "metadata": {},
   "outputs": [],
   "source": [
    "# by default, new operations are added to default graph\n",
    "assert z.graph is tf.get_default_graph()"
   ]
  },
  {
   "cell_type": "code",
   "execution_count": 12,
   "metadata": {},
   "outputs": [
    {
     "data": {
      "image/png": "[encoded data removed]",
      "text/plain": [
       "<matplotlib.figure.Figure at 0x120e8bba8>"
      ]
     },
     "metadata": {},
     "output_type": "display_data"
    }
   ],
   "source": [
    "# execute the graph and plot the results\n",
    "plt.plot(x.eval(),z.eval())\n",
    "plt.show()"
   ]
  },
  {
   "cell_type": "code",
   "execution_count": 13,
   "metadata": {},
   "outputs": [
    {
     "name": "stdout",
     "output_type": "stream",
     "text": [
      "(32,)\n"
     ]
    }
   ],
   "source": [
    "# get tensor shape\n",
    "print(z.get_shape())"
   ]
  },
  {
   "cell_type": "code",
   "execution_count": 14,
   "metadata": {},
   "outputs": [
    {
     "name": "stdout",
     "output_type": "stream",
     "text": [
      "[32]\n"
     ]
    }
   ],
   "source": [
    "print(z.get_shape().as_list())"
   ]
  },
  {
   "cell_type": "code",
   "execution_count": 15,
   "metadata": {},
   "outputs": [
    {
     "name": "stdout",
     "output_type": "stream",
     "text": [
      "[32]\n"
     ]
    }
   ],
   "source": [
    "# sometime we don't know the shape of the tensor\n",
    "# until it is computed in the graph. In that case\n",
    "# we should use tf.Shape fn, which will return a \n",
    "# tensor which can be eval'ed, rather than a discrete\n",
    "# value of tf.dimension\n",
    "print(tf.shape(z).eval())"
   ]
  },
  {
   "cell_type": "code",
   "execution_count": 17,
   "metadata": {},
   "outputs": [
    {
     "name": "stdout",
     "output_type": "stream",
     "text": [
      "[[32]\n",
      " [32]\n",
      " [ 3]\n",
      " [ 4]]\n"
     ]
    }
   ],
   "source": [
    "# combining tensors ('pack' has been changed to 'stack')\n",
    "print(tf.stack([tf.shape(z), tf.shape(z), [3], [4]]).eval())"
   ]
  },
  {
   "cell_type": "code",
   "execution_count": 18,
   "metadata": {},
   "outputs": [],
   "source": [
    "z_2d = tf.matmul(tf.reshape(z, [n_values, 1]), tf.reshape(z, [1, n_values]))"
   ]
  },
  {
   "cell_type": "code",
   "execution_count": 19,
   "metadata": {},
   "outputs": [
    {
     "data": {
      "image/png": "[encoded data removed]",
      "text/plain": [
       "<matplotlib.figure.Figure at 0x1254016d8>"
      ]
     },
     "metadata": {},
     "output_type": "display_data"
    }
   ],
   "source": [
    "plt.imshow(z_2d.eval())\n",
    "plt.show()"
   ]
  },
  {
   "cell_type": "code",
   "execution_count": 21,
   "metadata": {},
   "outputs": [
    {
     "data": {
      "image/png": "[encoded data removed]",
      "text/plain": [
       "<matplotlib.figure.Figure at 0x1267f1898>"
      ]
     },
     "metadata": {},
     "output_type": "display_data"
    }
   ],
   "source": [
    "# create a gabor patch\n",
    "# mul has been changed to multiply\n",
    "x = tf.reshape(tf.sin(tf.linspace(-3.0,3.0,n_values)), [n_values,1])\n",
    "y = tf.reshape(tf.ones_like(x), [1, n_values])\n",
    "z = tf.multiply(tf.matmul(x,y), z_2d)\n",
    "plt.imshow(z.eval())\n",
    "plt.show()"
   ]
  },
  {
   "cell_type": "code",
   "execution_count": 22,
   "metadata": {},
   "outputs": [
    {
     "name": "stdout",
     "output_type": "stream",
     "text": [
      "['LinSpace/start', 'LinSpace/stop', 'LinSpace/num', 'LinSpace', 'sub/y', 'sub', 'Pow/y', 'Pow', 'Pow_1/x', 'Pow_1/y', 'Pow_1', 'mul/x', 'mul', 'truediv', 'Neg', 'Exp', 'Sqrt/x', 'Sqrt', 'mul_1/x', 'mul_1', 'truediv_1/x', 'truediv_1', 'mul_2', 'Shape', 'Shape_1', 'Shape_2', 'stack/2_1', 'stack/3_1', 'stack', 'Reshape/shape', 'Reshape', 'Reshape_1/shape', 'Reshape_1', 'MatMul', 'LinSpace_1/start', 'LinSpace_1/stop', 'LinSpace_1/num', 'LinSpace_1', 'Sin', 'Reshape_2/shape', 'Reshape_2', 'ones_like/Shape', 'ones_like/Const', 'ones_like', 'Reshape_3/shape', 'Reshape_3', 'LinSpace_2/start', 'LinSpace_2/stop', 'LinSpace_2/num', 'LinSpace_2', 'Sin_1', 'Reshape_4/shape', 'Reshape_4', 'ones_like_1/Shape', 'ones_like_1/Const', 'ones_like_1', 'Reshape_5/shape', 'Reshape_5', 'MatMul_1', 'Mul']\n"
     ]
    }
   ],
   "source": [
    "# list of all operations of a graph\n",
    "ops = tf.get_default_graph().get_operations()\n",
    "print([op.name for op in ops])"
   ]
  },
  {
   "cell_type": "code",
   "execution_count": 23,
   "metadata": {},
   "outputs": [],
   "source": [
    "# creating a generic function for computing the same thing\n",
    "def gabor(n_values=32, sigma=1.0, mean=0.0):\n",
    "    x = tf.linspace(-3.0,3.0,n_values)\n",
    "    z = (tf.exp(tf.negative(tf.pow(x-mean, 2.0) / \n",
    "                           (2.0 * tf.pow(sigma,2.0)))) *\n",
    "        (1.0 / (sigma * tf.sqrt(2.0 * 3.1415))))\n",
    "    gauss_kernel = tf.matmul(\n",
    "        tf.reshape(z, [n_values,1]), tf.reshape(z, [1, n_values]))\n",
    "    x = tf.reshape(tf.sin(tf.linspace(-3.0,3.0,n_values)), [n_values, 1])\n",
    "    y = tf.reshape(tf.ones_like(x), [1, n_values])\n",
    "    gabor_kernel = tf.multiply(tf.matmul(x,y), gauss_kernel)\n",
    "    return gabor_kernel"
   ]
  },
  {
   "cell_type": "code",
   "execution_count": 24,
   "metadata": {},
   "outputs": [
    {
     "data": {
      "image/png": "[encoded data removed]",
      "text/plain": [
       "<matplotlib.figure.Figure at 0x126019ef0>"
      ]
     },
     "metadata": {},
     "output_type": "display_data"
    }
   ],
   "source": [
    "plt.imshow(gabor().eval())\n",
    "plt.show()"
   ]
  },
  {
   "cell_type": "code",
   "execution_count": null,
   "metadata": {},
   "outputs": [],
   "source": []
  }
 ],
 "metadata": {
  "colab": {
   "name": "tf_intro",
   "provenance": [],
   "version": "0.3.2"
  },
  "kernelspec": {
   "display_name": "Python 3",
   "language": "python",
   "name": "python3"
  },
  "language_info": {
   "codemirror_mode": {
    "name": "ipython",
    "version": 3
   },
   "file_extension": ".py",
   "mimetype": "text/x-python",
   "name": "python",
   "nbconvert_exporter": "python",
   "pygments_lexer": "ipython3",
   "version": "3.6.5"
  }
 },
 "nbformat": 4,
 "nbformat_minor": 1
}
